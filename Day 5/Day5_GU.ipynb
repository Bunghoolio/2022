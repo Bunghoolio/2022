{
 "cells": [
  {
   "cell_type": "code",
   "execution_count": 1,
   "metadata": {},
   "outputs": [],
   "source": [
    "import numpy as np\n",
    "import re"
   ]
  },
  {
   "cell_type": "code",
   "execution_count": 2,
   "metadata": {},
   "outputs": [],
   "source": [
    "with open(r'./input.txt') as f:\n",
    "    lines = f.read().splitlines()"
   ]
  },
  {
   "cell_type": "code",
   "execution_count": 3,
   "metadata": {},
   "outputs": [],
   "source": [
    "crates = lines[:9]\n",
    "moves = lines[10:]"
   ]
  },
  {
   "cell_type": "code",
   "execution_count": 4,
   "metadata": {},
   "outputs": [
    {
     "name": "stdout",
     "output_type": "stream",
     "text": [
      "    [P]                 [Q]     [T]\n",
      "[F] [N]             [P] [L]     [M]\n",
      "[H] [T] [H]         [M] [H]     [Z]\n",
      "[M] [C] [P]     [Q] [R] [C]     [J]\n",
      "[T] [J] [M] [F] [L] [G] [R]     [Q]\n",
      "[V] [G] [D] [V] [G] [D] [N] [W] [L]\n",
      "[L] [Q] [S] [B] [H] [B] [M] [L] [D]\n",
      "[D] [H] [R] [L] [N] [W] [G] [C] [R]\n",
      " 1   2   3   4   5   6   7   8   9 \n"
     ]
    }
   ],
   "source": [
    "stack = []\n",
    "\n",
    "for line in crates:\n",
    "    print(line)\n",
    "\n",
    "    if line[:3] == ' 1 ':\n",
    "        line_ = line[:2].replace(' ', '') + line[2:-1].replace('   ', ' ')\n",
    "    else:\n",
    "        line_ = line[:4].replace('    ','NaN ') + line[4:].replace('    ', ' NaN')\n",
    "\n",
    "    stack.append(line_.split(' '))\n",
    "stack = np.array(stack)"
   ]
  },
  {
   "cell_type": "code",
   "execution_count": 5,
   "metadata": {},
   "outputs": [],
   "source": [
    "def init_stacks():\n",
    "\n",
    "    for i in range(stack.shape[1]):\n",
    "        i_ = stack[:-1,i]\n",
    "        globals()[f'stack_{i+1}'] = i_[i_ != 'NaN']\n",
    "\n",
    "init_stacks()"
   ]
  },
  {
   "cell_type": "code",
   "execution_count": 6,
   "metadata": {},
   "outputs": [],
   "source": [
    "moves_ = []\n",
    "\n",
    "for move in moves:\n",
    "    move = re.findall(r'\\d+', move)\n",
    "    moves_.append(move)"
   ]
  },
  {
   "cell_type": "code",
   "execution_count": 7,
   "metadata": {},
   "outputs": [],
   "source": [
    "for move in moves_:\n",
    "    stack_ = int(move[0])\n",
    "    from_ = globals()[f'stack_{move[1]}']\n",
    "    to = globals()[f'stack_{move[2]}']\n",
    "\n",
    "    globals()[f'stack_{move[2]}'] = np.concatenate((np.flip(from_[:stack_]), to))\n",
    "    globals()[f'stack_{move[1]}'] = from_[stack_:]"
   ]
  },
  {
   "cell_type": "code",
   "execution_count": 8,
   "metadata": {},
   "outputs": [
    {
     "name": "stdout",
     "output_type": "stream",
     "text": [
      "first quiz: HNSNMTLHQ\n"
     ]
    }
   ],
   "source": [
    "string=''\n",
    "\n",
    "for i in range(9):\n",
    "    string_ = globals()[f'stack_{i+1}'][0].replace('[','').replace(']','')\n",
    "    string += string_\n",
    "\n",
    "print('first quiz: {}'.format(string))"
   ]
  },
  {
   "cell_type": "code",
   "execution_count": 9,
   "metadata": {},
   "outputs": [],
   "source": [
    "init_stacks()\n",
    "\n",
    "for move in moves_:\n",
    "    stack = int(move[0])\n",
    "    from_ = globals()[f'stack_{move[1]}']\n",
    "    to = globals()[f'stack_{move[2]}']\n",
    "\n",
    "    globals()[f'stack_{move[2]}'] = np.concatenate((from_[:stack], to))\n",
    "    globals()[f'stack_{move[1]}'] = from_[stack:]"
   ]
  },
  {
   "cell_type": "code",
   "execution_count": 10,
   "metadata": {},
   "outputs": [
    {
     "name": "stdout",
     "output_type": "stream",
     "text": [
      "second quiz: RNLFDJMCT\n"
     ]
    }
   ],
   "source": [
    "string=''\n",
    "\n",
    "for i in range(9):\n",
    "    string_ = globals()[f'stack_{i+1}'][0].replace('[','').replace(']','')\n",
    "    string += string_\n",
    "\n",
    "print('second quiz: {}'.format(string))"
   ]
  }
 ],
 "metadata": {
  "kernelspec": {
   "display_name": "Python 3.11.0 64-bit",
   "language": "python",
   "name": "python3"
  },
  "language_info": {
   "codemirror_mode": {
    "name": "ipython",
    "version": 3
   },
   "file_extension": ".py",
   "mimetype": "text/x-python",
   "name": "python",
   "nbconvert_exporter": "python",
   "pygments_lexer": "ipython3",
   "version": "3.11.0"
  },
  "orig_nbformat": 4,
  "vscode": {
   "interpreter": {
    "hash": "d70e170722f273e0c1dbe046cce38631bc71d31254f04aca9a3f0ee18ff7092a"
   }
  }
 },
 "nbformat": 4,
 "nbformat_minor": 2
}
