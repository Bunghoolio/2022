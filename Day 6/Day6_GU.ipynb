{
 "cells": [
  {
   "cell_type": "code",
   "execution_count": 4,
   "metadata": {},
   "outputs": [],
   "source": [
    "with open(r'./input.txt') as f:\n",
    "    lines = f.read().splitlines()\n",
    "\n",
    "chars = [char for char in lines[0]]"
   ]
  },
  {
   "cell_type": "code",
   "execution_count": 10,
   "metadata": {},
   "outputs": [
    {
     "name": "stdout",
     "output_type": "stream",
     "text": [
      "first quiz: 1816\n"
     ]
    }
   ],
   "source": [
    "char_num = 4\n",
    "\n",
    "for i in range(len(chars)):\n",
    "    if len(chars[i:i+char_num]) != len(list(set(chars[i:i+char_num]))):\n",
    "        continue\n",
    "    else:\n",
    "        print('first quiz: {}'.format(i+char_num))\n",
    "        break"
   ]
  },
  {
   "cell_type": "code",
   "execution_count": 11,
   "metadata": {},
   "outputs": [
    {
     "name": "stdout",
     "output_type": "stream",
     "text": [
      "second quiz: 2625\n"
     ]
    }
   ],
   "source": [
    "char_num = 14\n",
    "\n",
    "for i in range(len(chars)):\n",
    "    if len(chars[i:i+char_num]) != len(list(set(chars[i:i+char_num]))):\n",
    "        continue\n",
    "    else:\n",
    "        print('second quiz: {}'.format(i+char_num))\n",
    "        break"
   ]
  }
 ],
 "metadata": {
  "kernelspec": {
   "display_name": "Python 3.11.0 64-bit",
   "language": "python",
   "name": "python3"
  },
  "language_info": {
   "codemirror_mode": {
    "name": "ipython",
    "version": 3
   },
   "file_extension": ".py",
   "mimetype": "text/x-python",
   "name": "python",
   "nbconvert_exporter": "python",
   "pygments_lexer": "ipython3",
   "version": "3.11.0"
  },
  "orig_nbformat": 4,
  "vscode": {
   "interpreter": {
    "hash": "d70e170722f273e0c1dbe046cce38631bc71d31254f04aca9a3f0ee18ff7092a"
   }
  }
 },
 "nbformat": 4,
 "nbformat_minor": 2
}
