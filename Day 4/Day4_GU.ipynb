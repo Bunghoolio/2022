{
 "cells": [
  {
   "cell_type": "code",
   "execution_count": 1,
   "metadata": {},
   "outputs": [],
   "source": [
    "import numpy as np"
   ]
  },
  {
   "cell_type": "code",
   "execution_count": 2,
   "metadata": {},
   "outputs": [],
   "source": [
    "with open(r'./input.txt') as f:\n",
    "    lines = f.read().splitlines()"
   ]
  },
  {
   "cell_type": "code",
   "execution_count": 3,
   "metadata": {},
   "outputs": [],
   "source": [
    "lst = [x.split(',') for x in lines]\n",
    "lst = [[x[0].split('-'), x[1].split('-')] for x in lst]"
   ]
  },
  {
   "cell_type": "code",
   "execution_count": 4,
   "metadata": {},
   "outputs": [
    {
     "name": "stdout",
     "output_type": "stream",
     "text": [
      "first quiz: 524\n"
     ]
    }
   ],
   "source": [
    "cnt = 0\n",
    "\n",
    "for i in lst:\n",
    "\n",
    "    #elf_1\n",
    "    start, end = int(i[0][0]), int(i[0][1])\n",
    "    elf_1 = np.linspace(start, end, num=end-start+1, endpoint = True, dtype=int)\n",
    "    \n",
    "    #elf_2\n",
    "    start, end = int(i[1][0]), int(i[1][1])\n",
    "    elf_2 = np.linspace(start, end, num=end-start+1, endpoint = True, dtype=int)\n",
    "\n",
    "    if len(np.intersect1d(elf_1, elf_2)) == min(len(elf_1), len(elf_2)):\n",
    "        cnt += 1\n",
    "    else:\n",
    "        continue\n",
    "\n",
    "print('first quiz: {}'.format(cnt))"
   ]
  },
  {
   "cell_type": "code",
   "execution_count": 5,
   "metadata": {},
   "outputs": [
    {
     "name": "stdout",
     "output_type": "stream",
     "text": [
      "second quiz: 798\n"
     ]
    }
   ],
   "source": [
    "cnt = 0\n",
    "\n",
    "for i in lst:\n",
    "\n",
    "    #elf_1\n",
    "    start, end = int(i[0][0]), int(i[0][1])\n",
    "    elf_1 = np.linspace(start, end, num=end-start+1, endpoint = True, dtype=int)\n",
    "    \n",
    "    #elf_2\n",
    "    start, end = int(i[1][0]), int(i[1][1])\n",
    "    elf_2 = np.linspace(start, end, num=end-start+1, endpoint = True, dtype=int)\n",
    "\n",
    "    if len(np.intersect1d(elf_1, elf_2)) > 0:\n",
    "        cnt += 1\n",
    "    else:\n",
    "        continue\n",
    "\n",
    "print('second quiz: {}'.format(cnt))"
   ]
  }
 ],
 "metadata": {
  "kernelspec": {
   "display_name": "Python 3.10.2 64-bit",
   "language": "python",
   "name": "python3"
  },
  "language_info": {
   "codemirror_mode": {
    "name": "ipython",
    "version": 3
   },
   "file_extension": ".py",
   "mimetype": "text/x-python",
   "name": "python",
   "nbconvert_exporter": "python",
   "pygments_lexer": "ipython3",
   "version": "3.10.2"
  },
  "orig_nbformat": 4,
  "vscode": {
   "interpreter": {
    "hash": "369f2c481f4da34e4445cda3fffd2e751bd1c4d706f27375911949ba6bb62e1c"
   }
  }
 },
 "nbformat": 4,
 "nbformat_minor": 2
}
