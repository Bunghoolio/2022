{
 "cells": [
  {
   "cell_type": "code",
   "execution_count": 4,
   "metadata": {},
   "outputs": [],
   "source": [
    "import numpy as np"
   ]
  },
  {
   "cell_type": "code",
   "execution_count": 1,
   "metadata": {},
   "outputs": [],
   "source": [
    "with open(r'./input.txt') as f:\n",
    "    lines = f.read().splitlines()"
   ]
  },
  {
   "cell_type": "code",
   "execution_count": 7,
   "metadata": {},
   "outputs": [],
   "source": [
    "cmds = []\n",
    "\n",
    "for line in lines:\n",
    "\n",
    "    cmd = line.split(' ')[0]\n",
    "\n",
    "    try:\n",
    "        v = int(line.split(' ')[1])\n",
    "    except:\n",
    "        v = np.nan\n",
    "\n",
    "    cmds.append([cmd, v])"
   ]
  },
  {
   "cell_type": "code",
   "execution_count": 26,
   "metadata": {},
   "outputs": [],
   "source": [
    "prgm_exec = [1]\n",
    "\n",
    "for cmd in cmds:\n",
    "    prgm_exec.append(prgm_exec[-1])\n",
    "\n",
    "    if cmd[0] == 'addx':\n",
    "        prgm_exec.append(prgm_exec[-1] + cmd[1])\n"
   ]
  },
  {
   "cell_type": "code",
   "execution_count": 31,
   "metadata": {},
   "outputs": [
    {
     "name": "stdout",
     "output_type": "stream",
     "text": [
      "first quiz: 14760\n"
     ]
    }
   ],
   "source": [
    "snapshots = [20, 60, 100, 140, 180, 220]\n",
    "strenght = 0\n",
    "\n",
    "for i in snapshots:\n",
    "    strenght += prgm_exec[i-1] * i\n",
    "\n",
    "print('first quiz: {}'.format(strenght))"
   ]
  },
  {
   "cell_type": "code",
   "execution_count": 65,
   "metadata": {},
   "outputs": [],
   "source": [
    "render = []\n",
    "\n",
    "for step, pos in enumerate(prgm_exec):\n",
    "    if (step%40) >= pos-1 and (step%40) <= pos+1:\n",
    "        render.append('#')\n",
    "    else:\n",
    "        render.append(' ')\n"
   ]
  },
  {
   "cell_type": "code",
   "execution_count": 66,
   "metadata": {},
   "outputs": [
    {
     "name": "stdout",
     "output_type": "stream",
     "text": [
      "#### ####  ##  #### ###  #  # ###  #### \n",
      "#    #    #  # #    #  # #  # #  # #    \n",
      "###  ###  #    ###  #  # #  # #  # ###  \n",
      "#    #    # ## #    ###  #  # ###  #    \n",
      "#    #    #  # #    # #  #  # # #  #    \n",
      "#### #     ### #### #  #  ##  #  # #### \n"
     ]
    }
   ],
   "source": [
    "lns = [40, 80, 120, 160, 200, 240]\n",
    "j = 0\n",
    "\n",
    "for i in lns:\n",
    "    print(''.join(render[j:i]))\n",
    "    j = i"
   ]
  }
 ],
 "metadata": {
  "kernelspec": {
   "display_name": "Python 3.10.2 64-bit",
   "language": "python",
   "name": "python3"
  },
  "language_info": {
   "codemirror_mode": {
    "name": "ipython",
    "version": 3
   },
   "file_extension": ".py",
   "mimetype": "text/x-python",
   "name": "python",
   "nbconvert_exporter": "python",
   "pygments_lexer": "ipython3",
   "version": "3.10.2"
  },
  "orig_nbformat": 4,
  "vscode": {
   "interpreter": {
    "hash": "369f2c481f4da34e4445cda3fffd2e751bd1c4d706f27375911949ba6bb62e1c"
   }
  }
 },
 "nbformat": 4,
 "nbformat_minor": 2
}
