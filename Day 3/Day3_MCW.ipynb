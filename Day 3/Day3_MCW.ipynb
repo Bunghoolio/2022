{
 "cells": [
  {
   "cell_type": "code",
   "execution_count": 1,
   "metadata": {},
   "outputs": [],
   "source": [
    "\n",
    "import numpy as np\n",
    "import pandas as pd\n",
    "import math"
   ]
  },
  {
   "cell_type": "code",
   "execution_count": 5,
   "metadata": {},
   "outputs": [
    {
     "name": "stdout",
     "output_type": "stream",
     "text": [
      "                                                items\n",
      "0        GbccTtTSGGbgrcWBGGrdgTnVQnCmNpCJlNnNPVfClcnN\n",
      "1                              vMzvZhzhwDLVmQnClwwNQp\n",
      "2                FRsZFzjQFsqRzRRjDZbdtTgdHBBWGrdBdHHs\n",
      "3                                  HCLTmbCLgzNBNPSSlT\n",
      "4    JJGMWRJMrrdwWWGjGWMLRGLjBzNQsBzPPfflzDPBsBffDrQz\n",
      "..                                                ...\n",
      "295                          DlGlGHvFHGDgcFCtfhCJFtZc\n",
      "296  DBHGGGSDvGDPHWBGdBbSvgWDNVMjLLRnmNmjPLNPNcRQVnjj\n",
      "297                                tsGdTJdJtNllzjGRzm\n",
      "298                          HZvvDLLWqbBBMRMRNjVhHRmn\n",
      "299        vZDCvqqgBDZZjbZDrWqBvpdpFpcdpCJcPTSJJtptpP\n",
      "\n",
      "[300 rows x 1 columns]\n"
     ]
    }
   ],
   "source": [
    "df_ruck = pd.read_csv(\"rucksack input.txt\", header = None, names = ['items'])\n",
    "\n",
    "print(df_ruck)"
   ]
  },
  {
   "cell_type": "code",
   "execution_count": null,
   "metadata": {},
   "outputs": [],
   "source": []
  }
 ],
 "metadata": {
  "kernelspec": {
   "display_name": "Python 3.9.13 64-bit (microsoft store)",
   "language": "python",
   "name": "python3"
  },
  "language_info": {
   "codemirror_mode": {
    "name": "ipython",
    "version": 3
   },
   "file_extension": ".py",
   "mimetype": "text/x-python",
   "name": "python",
   "nbconvert_exporter": "python",
   "pygments_lexer": "ipython3",
   "version": "3.9.13"
  },
  "orig_nbformat": 4,
  "vscode": {
   "interpreter": {
    "hash": "8cd415eadad6808d033cdb5cee8d4a21bc5a13586fc9ffab078162a941e3c42c"
   }
  }
 },
 "nbformat": 4,
 "nbformat_minor": 2
}
