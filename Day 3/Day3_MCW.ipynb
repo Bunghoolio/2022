{
 "cells": [
  {
   "cell_type": "code",
   "execution_count": 28,
   "metadata": {},
   "outputs": [],
   "source": [
    "\n",
    "import numpy as np\n",
    "import pandas as pd\n",
    "import math"
   ]
  },
  {
   "cell_type": "code",
   "execution_count": 30,
   "metadata": {},
   "outputs": [
    {
     "name": "stdout",
     "output_type": "stream",
     "text": [
      "                                                items\n",
      "0        GbccTtTSGGbgrcWBGGrdgTnVQnCmNpCJlNnNPVfClcnN\n",
      "1                              vMzvZhzhwDLVmQnClwwNQp\n",
      "2                FRsZFzjQFsqRzRRjDZbdtTgdHBBWGrdBdHHs\n",
      "3                                  HCLTmbCLgzNBNPSSlT\n",
      "4    JJGMWRJMrrdwWWGjGWMLRGLjBzNQsBzPPfflzDPBsBffDrQz\n",
      "..                                                ...\n",
      "295                          DlGlGHvFHGDgcFCtfhCJFtZc\n",
      "296  DBHGGGSDvGDPHWBGdBbSvgWDNVMjLLRnmNmjPLNPNcRQVnjj\n",
      "297                                tsGdTJdJtNllzjGRzm\n",
      "298                          HZvvDLLWqbBBMRMRNjVhHRmn\n",
      "299        vZDCvqqgBDZZjbZDrWqBvpdpFpcdpCJcPTSJJtptpP\n",
      "\n",
      "[300 rows x 1 columns]\n"
     ]
    }
   ],
   "source": [
    "df_ruck = pd.read_csv(\"rucksack input.txt\", header = None, names = ['items'])\n",
    "\n",
    "print(df_ruck)"
   ]
  },
  {
   "cell_type": "code",
   "execution_count": 31,
   "metadata": {},
   "outputs": [],
   "source": [
    "df_ruck['Leng'] = df_ruck['items'].apply(len)"
   ]
  },
  {
   "cell_type": "code",
   "execution_count": 32,
   "metadata": {},
   "outputs": [
    {
     "data": {
      "text/plain": [
       "items    object\n",
       "Leng      int64\n",
       "dtype: object"
      ]
     },
     "execution_count": 32,
     "metadata": {},
     "output_type": "execute_result"
    }
   ],
   "source": [
    "df_ruck.dtypes "
   ]
  },
  {
   "cell_type": "code",
   "execution_count": 4,
   "metadata": {},
   "outputs": [],
   "source": [
    "df_ruck['Leng'] = df_ruck['Leng'].astype(int)\n",
    "\n",
    "# df_ruck['Leng'] is already dtype  int"
   ]
  },
  {
   "cell_type": "code",
   "execution_count": 8,
   "metadata": {},
   "outputs": [],
   "source": [
    "FirstHalfLeng = df_ruck['Leng']/2"
   ]
  },
  {
   "cell_type": "code",
   "execution_count": 9,
   "metadata": {},
   "outputs": [
    {
     "name": "stdout",
     "output_type": "stream",
     "text": [
      "1\n"
     ]
    },
    {
     "ename": "KeyError",
     "evalue": "'x'",
     "output_type": "error",
     "traceback": [
      "\u001b[1;31m---------------------------------------------------------------------------\u001b[0m",
      "\u001b[1;31mKeyError\u001b[0m                                  Traceback (most recent call last)",
      "\u001b[1;32mc:\\Users\\Giuli\\OneDrive\\Data Projects\\Advent of Code\\2022\\Day 3\\Day3_MCW.ipynb Cell 7\u001b[0m in \u001b[0;36m<cell line: 3>\u001b[1;34m()\u001b[0m\n\u001b[0;32m      <a href='vscode-notebook-cell:/c%3A/Users/Giuli/OneDrive/Data%20Projects/Advent%20of%20Code/2022/Day%203/Day3_MCW.ipynb#W5sZmlsZQ%3D%3D?line=3'>4</a>\u001b[0m     x \u001b[39m+\u001b[39m\u001b[39m=\u001b[39m \u001b[39m1\u001b[39m\n\u001b[0;32m      <a href='vscode-notebook-cell:/c%3A/Users/Giuli/OneDrive/Data%20Projects/Advent%20of%20Code/2022/Day%203/Day3_MCW.ipynb#W5sZmlsZQ%3D%3D?line=4'>5</a>\u001b[0m     \u001b[39mprint\u001b[39m(x)\n\u001b[1;32m----> <a href='vscode-notebook-cell:/c%3A/Users/Giuli/OneDrive/Data%20Projects/Advent%20of%20Code/2022/Day%203/Day3_MCW.ipynb#W5sZmlsZQ%3D%3D?line=5'>6</a>\u001b[0m     df_ruck[\u001b[39m'\u001b[39m\u001b[39mItems1\u001b[39m\u001b[39m'\u001b[39m] \u001b[39m=\u001b[39m df_ruck[\u001b[39m'\u001b[39m\u001b[39mitems\u001b[39m\u001b[39m'\u001b[39m]\u001b[39m.\u001b[39mstr[: FirstHalfLeng[\u001b[39m'\u001b[39;49m\u001b[39mx\u001b[39;49m\u001b[39m'\u001b[39;49m]]\n\u001b[0;32m      <a href='vscode-notebook-cell:/c%3A/Users/Giuli/OneDrive/Data%20Projects/Advent%20of%20Code/2022/Day%203/Day3_MCW.ipynb#W5sZmlsZQ%3D%3D?line=7'>8</a>\u001b[0m \u001b[39mprint\u001b[39m(df_ruck)\n",
      "File \u001b[1;32mc:\\Python310\\lib\\site-packages\\pandas\\core\\series.py:958\u001b[0m, in \u001b[0;36mSeries.__getitem__\u001b[1;34m(self, key)\u001b[0m\n\u001b[0;32m    955\u001b[0m     \u001b[39mreturn\u001b[39;00m \u001b[39mself\u001b[39m\u001b[39m.\u001b[39m_values[key]\n\u001b[0;32m    957\u001b[0m \u001b[39melif\u001b[39;00m key_is_scalar:\n\u001b[1;32m--> 958\u001b[0m     \u001b[39mreturn\u001b[39;00m \u001b[39mself\u001b[39;49m\u001b[39m.\u001b[39;49m_get_value(key)\n\u001b[0;32m    960\u001b[0m \u001b[39mif\u001b[39;00m is_hashable(key):\n\u001b[0;32m    961\u001b[0m     \u001b[39m# Otherwise index.get_value will raise InvalidIndexError\u001b[39;00m\n\u001b[0;32m    962\u001b[0m     \u001b[39mtry\u001b[39;00m:\n\u001b[0;32m    963\u001b[0m         \u001b[39m# For labels that don't resolve as scalars like tuples and frozensets\u001b[39;00m\n",
      "File \u001b[1;32mc:\\Python310\\lib\\site-packages\\pandas\\core\\series.py:1069\u001b[0m, in \u001b[0;36mSeries._get_value\u001b[1;34m(self, label, takeable)\u001b[0m\n\u001b[0;32m   1066\u001b[0m     \u001b[39mreturn\u001b[39;00m \u001b[39mself\u001b[39m\u001b[39m.\u001b[39m_values[label]\n\u001b[0;32m   1068\u001b[0m \u001b[39m# Similar to Index.get_value, but we do not fall back to positional\u001b[39;00m\n\u001b[1;32m-> 1069\u001b[0m loc \u001b[39m=\u001b[39m \u001b[39mself\u001b[39;49m\u001b[39m.\u001b[39;49mindex\u001b[39m.\u001b[39;49mget_loc(label)\n\u001b[0;32m   1070\u001b[0m \u001b[39mreturn\u001b[39;00m \u001b[39mself\u001b[39m\u001b[39m.\u001b[39mindex\u001b[39m.\u001b[39m_get_values_for_loc(\u001b[39mself\u001b[39m, loc, label)\n",
      "File \u001b[1;32mc:\\Python310\\lib\\site-packages\\pandas\\core\\indexes\\range.py:389\u001b[0m, in \u001b[0;36mRangeIndex.get_loc\u001b[1;34m(self, key, method, tolerance)\u001b[0m\n\u001b[0;32m    387\u001b[0m             \u001b[39mraise\u001b[39;00m \u001b[39mKeyError\u001b[39;00m(key) \u001b[39mfrom\u001b[39;00m \u001b[39merr\u001b[39;00m\n\u001b[0;32m    388\u001b[0m     \u001b[39mself\u001b[39m\u001b[39m.\u001b[39m_check_indexing_error(key)\n\u001b[1;32m--> 389\u001b[0m     \u001b[39mraise\u001b[39;00m \u001b[39mKeyError\u001b[39;00m(key)\n\u001b[0;32m    390\u001b[0m \u001b[39mreturn\u001b[39;00m \u001b[39msuper\u001b[39m()\u001b[39m.\u001b[39mget_loc(key, method\u001b[39m=\u001b[39mmethod, tolerance\u001b[39m=\u001b[39mtolerance)\n",
      "\u001b[1;31mKeyError\u001b[0m: 'x'"
     ]
    }
   ],
   "source": [
    "# x = 0\n",
    "\n",
    "# for value in df_ruck['items']:\n",
    "#     x += 1\n",
    "#     print(x)\n",
    "#     df_ruck['Items1'] = df_ruck['items'].str[: FirstHalfLeng['x']]\n",
    "\n",
    "    \n",
    "# print(df_ruck)"
   ]
  },
  {
   "cell_type": "code",
   "execution_count": 34,
   "metadata": {},
   "outputs": [],
   "source": [
    "def split_at_half(col):\n",
    "    return col[:int(len(col)/2)]\n",
    "\n",
    "df_ruck['Items1'] = df_ruck['items'].apply(lambda x: split_at_half(x))"
   ]
  },
  {
   "cell_type": "code",
   "execution_count": 35,
   "metadata": {},
   "outputs": [
    {
     "data": {
      "text/html": [
       "<div>\n",
       "<style scoped>\n",
       "    .dataframe tbody tr th:only-of-type {\n",
       "        vertical-align: middle;\n",
       "    }\n",
       "\n",
       "    .dataframe tbody tr th {\n",
       "        vertical-align: top;\n",
       "    }\n",
       "\n",
       "    .dataframe thead th {\n",
       "        text-align: right;\n",
       "    }\n",
       "</style>\n",
       "<table border=\"1\" class=\"dataframe\">\n",
       "  <thead>\n",
       "    <tr style=\"text-align: right;\">\n",
       "      <th></th>\n",
       "      <th>items</th>\n",
       "      <th>Leng</th>\n",
       "      <th>Items1</th>\n",
       "    </tr>\n",
       "  </thead>\n",
       "  <tbody>\n",
       "    <tr>\n",
       "      <th>0</th>\n",
       "      <td>GbccTtTSGGbgrcWBGGrdgTnVQnCmNpCJlNnNPVfClcnN</td>\n",
       "      <td>44</td>\n",
       "      <td>GbccTtTSGGbgrcWBGGrdgT</td>\n",
       "    </tr>\n",
       "    <tr>\n",
       "      <th>1</th>\n",
       "      <td>vMzvZhzhwDLVmQnClwwNQp</td>\n",
       "      <td>22</td>\n",
       "      <td>vMzvZhzhwDL</td>\n",
       "    </tr>\n",
       "    <tr>\n",
       "      <th>2</th>\n",
       "      <td>FRsZFzjQFsqRzRRjDZbdtTgdHBBWGrdBdHHs</td>\n",
       "      <td>36</td>\n",
       "      <td>FRsZFzjQFsqRzRRjDZ</td>\n",
       "    </tr>\n",
       "    <tr>\n",
       "      <th>3</th>\n",
       "      <td>HCLTmbCLgzNBNPSSlT</td>\n",
       "      <td>18</td>\n",
       "      <td>HCLTmbCLg</td>\n",
       "    </tr>\n",
       "    <tr>\n",
       "      <th>4</th>\n",
       "      <td>JJGMWRJMrrdwWWGjGWMLRGLjBzNQsBzPPfflzDPBsBffDrQz</td>\n",
       "      <td>48</td>\n",
       "      <td>JJGMWRJMrrdwWWGjGWMLRGLj</td>\n",
       "    </tr>\n",
       "    <tr>\n",
       "      <th>...</th>\n",
       "      <td>...</td>\n",
       "      <td>...</td>\n",
       "      <td>...</td>\n",
       "    </tr>\n",
       "    <tr>\n",
       "      <th>295</th>\n",
       "      <td>DlGlGHvFHGDgcFCtfhCJFtZc</td>\n",
       "      <td>24</td>\n",
       "      <td>DlGlGHvFHGDg</td>\n",
       "    </tr>\n",
       "    <tr>\n",
       "      <th>296</th>\n",
       "      <td>DBHGGGSDvGDPHWBGdBbSvgWDNVMjLLRnmNmjPLNPNcRQVnjj</td>\n",
       "      <td>48</td>\n",
       "      <td>DBHGGGSDvGDPHWBGdBbSvgWD</td>\n",
       "    </tr>\n",
       "    <tr>\n",
       "      <th>297</th>\n",
       "      <td>tsGdTJdJtNllzjGRzm</td>\n",
       "      <td>18</td>\n",
       "      <td>tsGdTJdJt</td>\n",
       "    </tr>\n",
       "    <tr>\n",
       "      <th>298</th>\n",
       "      <td>HZvvDLLWqbBBMRMRNjVhHRmn</td>\n",
       "      <td>24</td>\n",
       "      <td>HZvvDLLWqbBB</td>\n",
       "    </tr>\n",
       "    <tr>\n",
       "      <th>299</th>\n",
       "      <td>vZDCvqqgBDZZjbZDrWqBvpdpFpcdpCJcPTSJJtptpP</td>\n",
       "      <td>42</td>\n",
       "      <td>vZDCvqqgBDZZjbZDrWqBv</td>\n",
       "    </tr>\n",
       "  </tbody>\n",
       "</table>\n",
       "<p>300 rows × 3 columns</p>\n",
       "</div>"
      ],
      "text/plain": [
       "                                                items  Leng  \\\n",
       "0        GbccTtTSGGbgrcWBGGrdgTnVQnCmNpCJlNnNPVfClcnN    44   \n",
       "1                              vMzvZhzhwDLVmQnClwwNQp    22   \n",
       "2                FRsZFzjQFsqRzRRjDZbdtTgdHBBWGrdBdHHs    36   \n",
       "3                                  HCLTmbCLgzNBNPSSlT    18   \n",
       "4    JJGMWRJMrrdwWWGjGWMLRGLjBzNQsBzPPfflzDPBsBffDrQz    48   \n",
       "..                                                ...   ...   \n",
       "295                          DlGlGHvFHGDgcFCtfhCJFtZc    24   \n",
       "296  DBHGGGSDvGDPHWBGdBbSvgWDNVMjLLRnmNmjPLNPNcRQVnjj    48   \n",
       "297                                tsGdTJdJtNllzjGRzm    18   \n",
       "298                          HZvvDLLWqbBBMRMRNjVhHRmn    24   \n",
       "299        vZDCvqqgBDZZjbZDrWqBvpdpFpcdpCJcPTSJJtptpP    42   \n",
       "\n",
       "                       Items1  \n",
       "0      GbccTtTSGGbgrcWBGGrdgT  \n",
       "1                 vMzvZhzhwDL  \n",
       "2          FRsZFzjQFsqRzRRjDZ  \n",
       "3                   HCLTmbCLg  \n",
       "4    JJGMWRJMrrdwWWGjGWMLRGLj  \n",
       "..                        ...  \n",
       "295              DlGlGHvFHGDg  \n",
       "296  DBHGGGSDvGDPHWBGdBbSvgWD  \n",
       "297                 tsGdTJdJt  \n",
       "298              HZvvDLLWqbBB  \n",
       "299     vZDCvqqgBDZZjbZDrWqBv  \n",
       "\n",
       "[300 rows x 3 columns]"
      ]
     },
     "execution_count": 35,
     "metadata": {},
     "output_type": "execute_result"
    }
   ],
   "source": [
    "df_ruck"
   ]
  },
  {
   "cell_type": "code",
   "execution_count": 39,
   "metadata": {},
   "outputs": [],
   "source": [
    "def split_at_secondhalf(col):\n",
    "    return col[int(len(col)/2) :]\n",
    "\n",
    "df_ruck['Items2'] = df_ruck['items'].apply(lambda x: split_at_secondhalf(x))"
   ]
  },
  {
   "cell_type": "code",
   "execution_count": 40,
   "metadata": {},
   "outputs": [
    {
     "data": {
      "text/html": [
       "<div>\n",
       "<style scoped>\n",
       "    .dataframe tbody tr th:only-of-type {\n",
       "        vertical-align: middle;\n",
       "    }\n",
       "\n",
       "    .dataframe tbody tr th {\n",
       "        vertical-align: top;\n",
       "    }\n",
       "\n",
       "    .dataframe thead th {\n",
       "        text-align: right;\n",
       "    }\n",
       "</style>\n",
       "<table border=\"1\" class=\"dataframe\">\n",
       "  <thead>\n",
       "    <tr style=\"text-align: right;\">\n",
       "      <th></th>\n",
       "      <th>items</th>\n",
       "      <th>Leng</th>\n",
       "      <th>Items1</th>\n",
       "      <th>Items2</th>\n",
       "    </tr>\n",
       "  </thead>\n",
       "  <tbody>\n",
       "    <tr>\n",
       "      <th>0</th>\n",
       "      <td>GbccTtTSGGbgrcWBGGrdgTnVQnCmNpCJlNnNPVfClcnN</td>\n",
       "      <td>44</td>\n",
       "      <td>GbccTtTSGGbgrcWBGGrdgT</td>\n",
       "      <td>nVQnCmNpCJlNnNPVfClcnN</td>\n",
       "    </tr>\n",
       "    <tr>\n",
       "      <th>1</th>\n",
       "      <td>vMzvZhzhwDLVmQnClwwNQp</td>\n",
       "      <td>22</td>\n",
       "      <td>vMzvZhzhwDL</td>\n",
       "      <td>VmQnClwwNQp</td>\n",
       "    </tr>\n",
       "    <tr>\n",
       "      <th>2</th>\n",
       "      <td>FRsZFzjQFsqRzRRjDZbdtTgdHBBWGrdBdHHs</td>\n",
       "      <td>36</td>\n",
       "      <td>FRsZFzjQFsqRzRRjDZ</td>\n",
       "      <td>bdtTgdHBBWGrdBdHHs</td>\n",
       "    </tr>\n",
       "    <tr>\n",
       "      <th>3</th>\n",
       "      <td>HCLTmbCLgzNBNPSSlT</td>\n",
       "      <td>18</td>\n",
       "      <td>HCLTmbCLg</td>\n",
       "      <td>zNBNPSSlT</td>\n",
       "    </tr>\n",
       "    <tr>\n",
       "      <th>4</th>\n",
       "      <td>JJGMWRJMrrdwWWGjGWMLRGLjBzNQsBzPPfflzDPBsBffDrQz</td>\n",
       "      <td>48</td>\n",
       "      <td>JJGMWRJMrrdwWWGjGWMLRGLj</td>\n",
       "      <td>BzNQsBzPPfflzDPBsBffDrQz</td>\n",
       "    </tr>\n",
       "    <tr>\n",
       "      <th>...</th>\n",
       "      <td>...</td>\n",
       "      <td>...</td>\n",
       "      <td>...</td>\n",
       "      <td>...</td>\n",
       "    </tr>\n",
       "    <tr>\n",
       "      <th>295</th>\n",
       "      <td>DlGlGHvFHGDgcFCtfhCJFtZc</td>\n",
       "      <td>24</td>\n",
       "      <td>DlGlGHvFHGDg</td>\n",
       "      <td>cFCtfhCJFtZc</td>\n",
       "    </tr>\n",
       "    <tr>\n",
       "      <th>296</th>\n",
       "      <td>DBHGGGSDvGDPHWBGdBbSvgWDNVMjLLRnmNmjPLNPNcRQVnjj</td>\n",
       "      <td>48</td>\n",
       "      <td>DBHGGGSDvGDPHWBGdBbSvgWD</td>\n",
       "      <td>NVMjLLRnmNmjPLNPNcRQVnjj</td>\n",
       "    </tr>\n",
       "    <tr>\n",
       "      <th>297</th>\n",
       "      <td>tsGdTJdJtNllzjGRzm</td>\n",
       "      <td>18</td>\n",
       "      <td>tsGdTJdJt</td>\n",
       "      <td>NllzjGRzm</td>\n",
       "    </tr>\n",
       "    <tr>\n",
       "      <th>298</th>\n",
       "      <td>HZvvDLLWqbBBMRMRNjVhHRmn</td>\n",
       "      <td>24</td>\n",
       "      <td>HZvvDLLWqbBB</td>\n",
       "      <td>MRMRNjVhHRmn</td>\n",
       "    </tr>\n",
       "    <tr>\n",
       "      <th>299</th>\n",
       "      <td>vZDCvqqgBDZZjbZDrWqBvpdpFpcdpCJcPTSJJtptpP</td>\n",
       "      <td>42</td>\n",
       "      <td>vZDCvqqgBDZZjbZDrWqBv</td>\n",
       "      <td>pdpFpcdpCJcPTSJJtptpP</td>\n",
       "    </tr>\n",
       "  </tbody>\n",
       "</table>\n",
       "<p>300 rows × 4 columns</p>\n",
       "</div>"
      ],
      "text/plain": [
       "                                                items  Leng  \\\n",
       "0        GbccTtTSGGbgrcWBGGrdgTnVQnCmNpCJlNnNPVfClcnN    44   \n",
       "1                              vMzvZhzhwDLVmQnClwwNQp    22   \n",
       "2                FRsZFzjQFsqRzRRjDZbdtTgdHBBWGrdBdHHs    36   \n",
       "3                                  HCLTmbCLgzNBNPSSlT    18   \n",
       "4    JJGMWRJMrrdwWWGjGWMLRGLjBzNQsBzPPfflzDPBsBffDrQz    48   \n",
       "..                                                ...   ...   \n",
       "295                          DlGlGHvFHGDgcFCtfhCJFtZc    24   \n",
       "296  DBHGGGSDvGDPHWBGdBbSvgWDNVMjLLRnmNmjPLNPNcRQVnjj    48   \n",
       "297                                tsGdTJdJtNllzjGRzm    18   \n",
       "298                          HZvvDLLWqbBBMRMRNjVhHRmn    24   \n",
       "299        vZDCvqqgBDZZjbZDrWqBvpdpFpcdpCJcPTSJJtptpP    42   \n",
       "\n",
       "                       Items1                    Items2  \n",
       "0      GbccTtTSGGbgrcWBGGrdgT    nVQnCmNpCJlNnNPVfClcnN  \n",
       "1                 vMzvZhzhwDL               VmQnClwwNQp  \n",
       "2          FRsZFzjQFsqRzRRjDZ        bdtTgdHBBWGrdBdHHs  \n",
       "3                   HCLTmbCLg                 zNBNPSSlT  \n",
       "4    JJGMWRJMrrdwWWGjGWMLRGLj  BzNQsBzPPfflzDPBsBffDrQz  \n",
       "..                        ...                       ...  \n",
       "295              DlGlGHvFHGDg              cFCtfhCJFtZc  \n",
       "296  DBHGGGSDvGDPHWBGdBbSvgWD  NVMjLLRnmNmjPLNPNcRQVnjj  \n",
       "297                 tsGdTJdJt                 NllzjGRzm  \n",
       "298              HZvvDLLWqbBB              MRMRNjVhHRmn  \n",
       "299     vZDCvqqgBDZZjbZDrWqBv     pdpFpcdpCJcPTSJJtptpP  \n",
       "\n",
       "[300 rows x 4 columns]"
      ]
     },
     "execution_count": 40,
     "metadata": {},
     "output_type": "execute_result"
    }
   ],
   "source": [
    "df_ruck\n"
   ]
  },
  {
   "cell_type": "code",
   "execution_count": null,
   "metadata": {},
   "outputs": [],
   "source": []
  },
  {
   "cell_type": "code",
   "execution_count": null,
   "metadata": {},
   "outputs": [],
   "source": []
  }
 ],
 "metadata": {
  "kernelspec": {
   "display_name": "Python 3",
   "language": "python",
   "name": "python3"
  },
  "language_info": {
   "codemirror_mode": {
    "name": "ipython",
    "version": 3
   },
   "file_extension": ".py",
   "mimetype": "text/x-python",
   "name": "python",
   "nbconvert_exporter": "python",
   "pygments_lexer": "ipython3",
   "version": "3.10.2"
  },
  "orig_nbformat": 4,
  "vscode": {
   "interpreter": {
    "hash": "369f2c481f4da34e4445cda3fffd2e751bd1c4d706f27375911949ba6bb62e1c"
   }
  }
 },
 "nbformat": 4,
 "nbformat_minor": 2
}
