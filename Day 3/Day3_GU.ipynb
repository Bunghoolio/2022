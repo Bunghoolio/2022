{
 "cells": [
  {
   "cell_type": "code",
   "execution_count": null,
   "metadata": {},
   "outputs": [],
   "source": [
    "TEst MIchael"
   ]
  }
 ],
 "metadata": {
  "kernelspec": {
   "display_name": "Python 3.11.0 64-bit",
   "language": "python",
   "name": "python3"
  },
  "language_info": {
   "name": "python",
   "version": "3.11.0"
  },
  "orig_nbformat": 4,
  "vscode": {
   "interpreter": {
    "hash": "d70e170722f273e0c1dbe046cce38631bc71d31254f04aca9a3f0ee18ff7092a"
   }
  }
 },
 "nbformat": 4,
 "nbformat_minor": 2
}
