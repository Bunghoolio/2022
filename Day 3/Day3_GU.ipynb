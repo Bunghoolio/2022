{
 "cells": [
  {
   "cell_type": "code",
   "execution_count": 16,
   "metadata": {},
   "outputs": [],
   "source": [
    "import numpy as np"
   ]
  },
  {
   "cell_type": "code",
   "execution_count": 1,
   "metadata": {},
   "outputs": [],
   "source": [
    "with open(r'./input.txt') as f:\n",
    "    lines = f.read().splitlines()"
   ]
  },
  {
   "cell_type": "code",
   "execution_count": 8,
   "metadata": {},
   "outputs": [],
   "source": [
    "def string_to_list(string):\n",
    "    return [x for x in string]\n",
    "\n",
    "lst = [string_to_list(x) for x in lines]"
   ]
  },
  {
   "cell_type": "code",
   "execution_count": 42,
   "metadata": {},
   "outputs": [],
   "source": [
    "intersect = np.array([])\n",
    "\n",
    "for i in range(len(lst)):\n",
    "    intersect = np.concatenate((intersect, (np.intersect1d(lst[i][:int(len(lst[i])/2)], lst[i][int(len(lst[i])/2):]))), axis=0)\n",
    "\n",
    "intersect = intersect.tolist()"
   ]
  },
  {
   "cell_type": "code",
   "execution_count": 39,
   "metadata": {},
   "outputs": [],
   "source": [
    "def range_char(start, stop):\n",
    "    return (chr(n) for n in range(ord(start), ord(stop) + 1))\n",
    "\n",
    "prio_dict = {}\n",
    "        \n",
    "for character in enumerate(range_char(\"a\", \"z\")):\n",
    "    prio_dict[character[1]] = character[0] + 1\n",
    "\n",
    "for character in enumerate(range_char(\"A\", \"Z\")):\n",
    "    prio_dict[character[1]] = character[0] + 27"
   ]
  },
  {
   "cell_type": "code",
   "execution_count": 44,
   "metadata": {},
   "outputs": [
    {
     "name": "stdout",
     "output_type": "stream",
     "text": [
      "first quiz: 7903\n"
     ]
    }
   ],
   "source": [
    "prio_sum = 0\n",
    "\n",
    "for i in intersect:\n",
    "    prio_sum += prio_dict[i]\n",
    "\n",
    "print('first quiz: {}'.format(prio_sum))"
   ]
  },
  {
   "cell_type": "code",
   "execution_count": 53,
   "metadata": {},
   "outputs": [],
   "source": [
    "elf_groups = np.array(lines).reshape((int(len(lines)/3), 3))"
   ]
  },
  {
   "cell_type": "code",
   "execution_count": 66,
   "metadata": {},
   "outputs": [],
   "source": [
    "def find_intersect(el):\n",
    "    return np.intersect1d(np.intersect1d(string_to_list(el[0]), string_to_list(el[1])), string_to_list(el[2]))\n",
    "\n",
    "intersect_group = np.array([])\n",
    "\n",
    "for i in range(len(elf_groups)):\n",
    "    intersect_group = np.concatenate((intersect_group, find_intersect(elf_groups[i])), axis=0)\n",
    "\n",
    "intersect_group = intersect_group.tolist()"
   ]
  },
  {
   "cell_type": "code",
   "execution_count": 69,
   "metadata": {},
   "outputs": [
    {
     "name": "stdout",
     "output_type": "stream",
     "text": [
      "second quiz: 2548\n"
     ]
    }
   ],
   "source": [
    "prio_sum = 0\n",
    "\n",
    "for i in intersect_group:\n",
    "    prio_sum += prio_dict[i]\n",
    "\n",
    "print('second quiz: {}'.format(prio_sum))"
   ]
  }
 ],
 "metadata": {
  "kernelspec": {
   "display_name": "Python 3.10.2 64-bit",
   "language": "python",
   "name": "python3"
  },
  "language_info": {
   "codemirror_mode": {
    "name": "ipython",
    "version": 3
   },
   "file_extension": ".py",
   "mimetype": "text/x-python",
   "name": "python",
   "nbconvert_exporter": "python",
   "pygments_lexer": "ipython3",
   "version": "3.10.2"
  },
  "orig_nbformat": 4,
  "vscode": {
   "interpreter": {
    "hash": "369f2c481f4da34e4445cda3fffd2e751bd1c4d706f27375911949ba6bb62e1c"
   }
  }
 },
 "nbformat": 4,
 "nbformat_minor": 2
}
