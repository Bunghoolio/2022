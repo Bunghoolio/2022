{
 "cells": [
  {
   "cell_type": "code",
   "execution_count": 9,
   "metadata": {},
   "outputs": [],
   "source": [
    "with open(r'./input.txt') as f:\n",
    "    lines = f.read().splitlines()\n",
    "\n",
    "lst = [x.split(' ') for x in lines]"
   ]
  },
  {
   "cell_type": "markdown",
   "metadata": {},
   "source": [
    "A = X = 1 Rock <br>\n",
    "B = Y = 2 Paper <br>\n",
    "C = Z = 3 Scissors <br>"
   ]
  },
  {
   "cell_type": "code",
   "execution_count": 10,
   "metadata": {},
   "outputs": [],
   "source": [
    "game_dct = {'A':1, 'B':2, 'C':3, 'X':1, 'Y':2, 'Z':3}\n",
    "game_lst = [[game_dct[x[0]], game_dct[x[1]]] for x in lst]"
   ]
  },
  {
   "cell_type": "markdown",
   "metadata": {},
   "source": [
    "Rock (1) vs Rock (1) --> draw (0)<br>\n",
    "Rock (1) vs Paper (2) --> win (1)<br>\n",
    "Rock (1) vs Scissors (3) --> lose (2)<br>\n",
    "\n",
    "Paper (2) vs Rock (1) --> lose (-1)<br>\n",
    "Paper (2) vs Paper (2) --> draw (0)<br>\n",
    "Paper (2) vs Scissors (3) --> win (1)<br>\n",
    "\n",
    "Scissors (3) vs Rock (1) --> win (-2)<br>\n",
    "Scissors (3) vs Paper (2) --> lose (-1)<br>\n",
    "Scissors (3) vs Scissors (3) --> draw (0)<br>"
   ]
  },
  {
   "cell_type": "code",
   "execution_count": 11,
   "metadata": {},
   "outputs": [
    {
     "name": "stdout",
     "output_type": "stream",
     "text": [
      "first quiz: 8392\n"
     ]
    }
   ],
   "source": [
    "result_dct = {0:3, #draw\n",
    "              2:0, -1:0, #lose\n",
    "              1:6, -2:6 #win\n",
    "}\n",
    "\n",
    "game_result = [result_dct[x[1]-x[0]] + x[1] for x in game_lst]\n",
    "print('first quiz: {}'.format(sum(game_result)))\n"
   ]
  },
  {
   "cell_type": "markdown",
   "metadata": {},
   "source": [
    "X = lose (0) <br>\n",
    "Y = draw (3) <br>\n",
    "Z = win (6) <br>"
   ]
  },
  {
   "cell_type": "code",
   "execution_count": 13,
   "metadata": {},
   "outputs": [],
   "source": [
    "game_dct_2 = {'A':1, 'B':2, 'C':3, 'X':0, 'Y':3, 'Z':6}\n",
    "game_lst_2 = [[game_dct_2[x[0]], game_dct_2[x[1]]] for x in lst]"
   ]
  },
  {
   "cell_type": "code",
   "execution_count": 19,
   "metadata": {},
   "outputs": [
    {
     "name": "stdout",
     "output_type": "stream",
     "text": [
      "first quiz: 10116\n"
     ]
    }
   ],
   "source": [
    "def my_move(opp, res):\n",
    "    if res == 3:\n",
    "        return opp\n",
    "    elif res == 6:\n",
    "        return opp%3+1\n",
    "    elif res == 0:\n",
    "        if opp == 1:\n",
    "            return 3\n",
    "        else:\n",
    "            return opp - 1\n",
    "\n",
    "game_result = [my_move(x[0], x[1]) + x[1] for x in game_lst_2]\n",
    "print('first quiz: {}'.format(sum(game_result)))\n"
   ]
  }
 ],
 "metadata": {
  "kernelspec": {
   "display_name": "Python 3.11.0 64-bit",
   "language": "python",
   "name": "python3"
  },
  "language_info": {
   "codemirror_mode": {
    "name": "ipython",
    "version": 3
   },
   "file_extension": ".py",
   "mimetype": "text/x-python",
   "name": "python",
   "nbconvert_exporter": "python",
   "pygments_lexer": "ipython3",
   "version": "3.11.0"
  },
  "orig_nbformat": 4,
  "vscode": {
   "interpreter": {
    "hash": "d70e170722f273e0c1dbe046cce38631bc71d31254f04aca9a3f0ee18ff7092a"
   }
  }
 },
 "nbformat": 4,
 "nbformat_minor": 2
}
