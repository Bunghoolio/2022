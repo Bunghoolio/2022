{
 "cells": [
  {
   "cell_type": "code",
   "execution_count": 6,
   "metadata": {},
   "outputs": [],
   "source": [
    "import numpy as np"
   ]
  },
  {
   "cell_type": "code",
   "execution_count": 32,
   "metadata": {},
   "outputs": [],
   "source": [
    "with open(r'.\\input.txt') as f:\n",
    "    lines = f.read().splitlines()"
   ]
  },
  {
   "cell_type": "code",
   "execution_count": 143,
   "metadata": {},
   "outputs": [],
   "source": [
    "trees = []\n",
    "\n",
    "for line in lines:\n",
    "    trees.append([char for char in line])\n",
    "\n",
    "trees = np.array(trees)"
   ]
  },
  {
   "cell_type": "code",
   "execution_count": 63,
   "metadata": {},
   "outputs": [
    {
     "name": "stdout",
     "output_type": "stream",
     "text": [
      "first quiz: 1814\n"
     ]
    }
   ],
   "source": [
    "cnt = 0\n",
    "\n",
    "for x in range(trees.shape[0]):\n",
    "    for y in range(trees.shape[1]):\n",
    "        \n",
    "        if trees[x,y] > min(max(np.append(trees[:x, y], -1)), max(np.append(trees[x+1:, y], -1)), max(np.append(trees[x, :y], -1)), max(np.append(trees[x, y+1:], -1))):\n",
    "            cnt += 1\n",
    "\n",
    "print('first quiz: {}'.format(cnt))"
   ]
  },
  {
   "cell_type": "code",
   "execution_count": 142,
   "metadata": {},
   "outputs": [],
   "source": [
    "def find_blocking_tree(ref, range):\n",
    "    cnt = 0\n",
    "    for tree in range:\n",
    "        if ref > tree:\n",
    "            cnt += 1\n",
    "        else:\n",
    "            cnt += 1\n",
    "            break\n",
    "    return len(range[:cnt])"
   ]
  },
  {
   "cell_type": "code",
   "execution_count": 145,
   "metadata": {},
   "outputs": [
    {
     "name": "stdout",
     "output_type": "stream",
     "text": [
      "second quiz: 330786\n"
     ]
    }
   ],
   "source": [
    "scene_score = []\n",
    "\n",
    "for x in range(trees.shape[0]):\n",
    "    for y in range(trees.shape[1]):\n",
    "\n",
    "        tree = trees[x,y]\n",
    "        to_right, to_left, upwards, downwards = trees[x, y+1:], np.flip(trees[x, :y]), np.flip(trees[:x, y]), trees[x+1:, y]\n",
    "\n",
    "        right, left = find_blocking_tree(tree, to_right), find_blocking_tree(tree, to_left)\n",
    "        up, down = find_blocking_tree(tree, upwards), find_blocking_tree(tree, downwards)\n",
    "        scene_score.append(right*left*up*down)\n",
    "\n",
    "print('second quiz: {}'.format(max(scene_score)))"
   ]
  }
 ],
 "metadata": {
  "kernelspec": {
   "display_name": "Python 3.11.0 64-bit",
   "language": "python",
   "name": "python3"
  },
  "language_info": {
   "codemirror_mode": {
    "name": "ipython",
    "version": 3
   },
   "file_extension": ".py",
   "mimetype": "text/x-python",
   "name": "python",
   "nbconvert_exporter": "python",
   "pygments_lexer": "ipython3",
   "version": "3.11.0"
  },
  "orig_nbformat": 4,
  "vscode": {
   "interpreter": {
    "hash": "d70e170722f273e0c1dbe046cce38631bc71d31254f04aca9a3f0ee18ff7092a"
   }
  }
 },
 "nbformat": 4,
 "nbformat_minor": 2
}
