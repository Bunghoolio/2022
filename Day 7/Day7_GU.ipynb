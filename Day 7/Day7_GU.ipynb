{
 "cells": [
  {
   "cell_type": "code",
   "execution_count": 1,
   "metadata": {},
   "outputs": [],
   "source": [
    "import numpy as np"
   ]
  },
  {
   "cell_type": "code",
   "execution_count": 2,
   "metadata": {},
   "outputs": [],
   "source": [
    "with open(r'./input.txt') as f:\n",
    "    lines = f.read().splitlines()"
   ]
  },
  {
   "cell_type": "code",
   "execution_count": 3,
   "metadata": {},
   "outputs": [
    {
     "name": "stdout",
     "output_type": "stream",
     "text": [
      "first quiz: 1501149\n"
     ]
    }
   ],
   "source": [
    "stack, sizes = [], []\n",
    "for line in lines:\n",
    "  if line == '$ cd ..':\n",
    "    size = stack.pop()\n",
    "    sizes.append(size)\n",
    "    stack[-1] += size\n",
    "  elif line.startswith('$ cd '):\n",
    "    stack.append(0)\n",
    "  elif line[0].isdigit():\n",
    "    stack[-1] += int(line.split()[0])\n",
    "sizes.extend(stack[::-1])\n",
    "\n",
    "print('first quiz: {}'.format(sum(s for s in sizes if s <= 100_000)))"
   ]
  },
  {
   "cell_type": "code",
   "execution_count": 4,
   "metadata": {},
   "outputs": [
    {
     "name": "stdout",
     "output_type": "stream",
     "text": [
      "second quiz: 10096985\n"
     ]
    }
   ],
   "source": [
    "total_size, req_size = 70000000, 30000000\n",
    "del_size = np.abs(total_size - sizes[-1] - req_size)\n",
    "\n",
    "print('second quiz: {}'.format(min([x for x in sizes if x > del_size])))"
   ]
  }
 ],
 "metadata": {
  "kernelspec": {
   "display_name": "Python 3.11.0 64-bit",
   "language": "python",
   "name": "python3"
  },
  "language_info": {
   "codemirror_mode": {
    "name": "ipython",
    "version": 3
   },
   "file_extension": ".py",
   "mimetype": "text/x-python",
   "name": "python",
   "nbconvert_exporter": "python",
   "pygments_lexer": "ipython3",
   "version": "3.11.0"
  },
  "orig_nbformat": 4,
  "vscode": {
   "interpreter": {
    "hash": "d70e170722f273e0c1dbe046cce38631bc71d31254f04aca9a3f0ee18ff7092a"
   }
  }
 },
 "nbformat": 4,
 "nbformat_minor": 2
}
