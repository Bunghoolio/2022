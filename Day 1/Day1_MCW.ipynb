{
 "cells": [
  {
   "cell_type": "code",
   "execution_count": 1,
   "metadata": {},
   "outputs": [],
   "source": [
    "import pandas as pd\n",
    "import math\n"
   ]
  },
  {
   "cell_type": "code",
   "execution_count": 2,
   "metadata": {},
   "outputs": [],
   "source": [
    "df_Inputs = pd.read_excel('Data Inputs.xlsx', header = None, names=['Calories'])\n",
    "#df_Inputs.columns['Calories']"
   ]
  },
  {
   "cell_type": "code",
   "execution_count": 3,
   "metadata": {},
   "outputs": [
    {
     "data": {
      "text/html": [
       "<div>\n",
       "<style scoped>\n",
       "    .dataframe tbody tr th:only-of-type {\n",
       "        vertical-align: middle;\n",
       "    }\n",
       "\n",
       "    .dataframe tbody tr th {\n",
       "        vertical-align: top;\n",
       "    }\n",
       "\n",
       "    .dataframe thead th {\n",
       "        text-align: right;\n",
       "    }\n",
       "</style>\n",
       "<table border=\"1\" class=\"dataframe\">\n",
       "  <thead>\n",
       "    <tr style=\"text-align: right;\">\n",
       "      <th></th>\n",
       "      <th>Calories</th>\n",
       "    </tr>\n",
       "  </thead>\n",
       "  <tbody>\n",
       "    <tr>\n",
       "      <th>0</th>\n",
       "      <td>1000.0</td>\n",
       "    </tr>\n",
       "    <tr>\n",
       "      <th>1</th>\n",
       "      <td>2000.0</td>\n",
       "    </tr>\n",
       "    <tr>\n",
       "      <th>2</th>\n",
       "      <td>3000.0</td>\n",
       "    </tr>\n",
       "    <tr>\n",
       "      <th>3</th>\n",
       "      <td>NaN</td>\n",
       "    </tr>\n",
       "    <tr>\n",
       "      <th>4</th>\n",
       "      <td>4000.0</td>\n",
       "    </tr>\n",
       "    <tr>\n",
       "      <th>5</th>\n",
       "      <td>NaN</td>\n",
       "    </tr>\n",
       "    <tr>\n",
       "      <th>6</th>\n",
       "      <td>5000.0</td>\n",
       "    </tr>\n",
       "    <tr>\n",
       "      <th>7</th>\n",
       "      <td>6000.0</td>\n",
       "    </tr>\n",
       "    <tr>\n",
       "      <th>8</th>\n",
       "      <td>NaN</td>\n",
       "    </tr>\n",
       "    <tr>\n",
       "      <th>9</th>\n",
       "      <td>7000.0</td>\n",
       "    </tr>\n",
       "    <tr>\n",
       "      <th>10</th>\n",
       "      <td>8000.0</td>\n",
       "    </tr>\n",
       "    <tr>\n",
       "      <th>11</th>\n",
       "      <td>9000.0</td>\n",
       "    </tr>\n",
       "    <tr>\n",
       "      <th>12</th>\n",
       "      <td>NaN</td>\n",
       "    </tr>\n",
       "    <tr>\n",
       "      <th>13</th>\n",
       "      <td>10000.0</td>\n",
       "    </tr>\n",
       "  </tbody>\n",
       "</table>\n",
       "</div>"
      ],
      "text/plain": [
       "    Calories\n",
       "0     1000.0\n",
       "1     2000.0\n",
       "2     3000.0\n",
       "3        NaN\n",
       "4     4000.0\n",
       "5        NaN\n",
       "6     5000.0\n",
       "7     6000.0\n",
       "8        NaN\n",
       "9     7000.0\n",
       "10    8000.0\n",
       "11    9000.0\n",
       "12       NaN\n",
       "13   10000.0"
      ]
     },
     "execution_count": 3,
     "metadata": {},
     "output_type": "execute_result"
    }
   ],
   "source": [
    "df_Inputs"
   ]
  },
  {
   "cell_type": "code",
   "execution_count": null,
   "metadata": {},
   "outputs": [],
   "source": [
    "df_Inputs['Calories'] = df_Inputs['Calories'] .astype(float)\n",
    "print(df_Inputs.dtypes)\n",
    "\n"
   ]
  },
  {
   "cell_type": "code",
   "execution_count": 7,
   "metadata": {},
   "outputs": [
    {
     "name": "stdout",
     "output_type": "stream",
     "text": [
      "DF length is: 14\n",
      "i is equal to: 0\n",
      "a is equal to: 1000.0\n",
      "i is equal to: 1\n",
      "a is equal to: 3000.0\n",
      "i is equal to: 2\n",
      "a is equal to: 6000.0\n",
      "i is equal to: 3\n",
      "New List is equal to: [6000.0]\n",
      "i is equal to: 4\n",
      "a is equal to: 4000.0\n",
      "i is equal to: 5\n",
      "New List is equal to: [6000.0, 4000.0]\n",
      "i is equal to: 6\n",
      "a is equal to: 5000.0\n",
      "i is equal to: 7\n",
      "a is equal to: 11000.0\n",
      "i is equal to: 8\n",
      "New List is equal to: [6000.0, 4000.0, 11000.0]\n",
      "i is equal to: 9\n",
      "a is equal to: 7000.0\n",
      "i is equal to: 10\n",
      "a is equal to: 15000.0\n",
      "i is equal to: 11\n",
      "a is equal to: 24000.0\n",
      "i is equal to: 12\n",
      "New List is equal to: [6000.0, 4000.0, 11000.0, 24000.0]\n",
      "i is equal to: 13\n",
      "a is equal to: 10000.0\n",
      "[6000.0, 4000.0, 11000.0, 24000.0]\n"
     ]
    }
   ],
   "source": [
    "df_length = (len(df_Inputs))\n",
    "print('DF length is: {}' .format(df_length))\n",
    "new_list = []\n",
    "a = 0\n",
    "\n",
    "\n",
    "for i, row in df_Inputs.iterrows():\n",
    "         \n",
    "        print('i is equal to:', i)\n",
    "        \n",
    "        if str(row['Calories']) != 'nan':\n",
    "            a += (row['Calories'])\n",
    "            print('a is equal to:', a)\n",
    "\n",
    "        else: \n",
    "            new_list.append(a)\n",
    "            print('New List is equal to:', new_list)\n",
    "            a=0        \n",
    "            continue\n",
    "  \n",
    "            \n",
    "print(new_list)\n",
    "        "
   ]
  },
  {
   "cell_type": "code",
   "execution_count": 9,
   "metadata": {},
   "outputs": [
    {
     "name": "stdout",
     "output_type": "stream",
     "text": [
      "13\n"
     ]
    }
   ],
   "source": [
    "df_length = (len(df_Inputs)-1)\n",
    "print(df_length)"
   ]
  },
  {
   "cell_type": "code",
   "execution_count": 8,
   "metadata": {},
   "outputs": [
    {
     "name": "stdout",
     "output_type": "stream",
     "text": [
      "Calories    10000.0\n",
      "Name: 13, dtype: float64\n"
     ]
    }
   ],
   "source": [
    "print(df_Inputs.iloc[-1])"
   ]
  },
  {
   "cell_type": "code",
   "execution_count": null,
   "metadata": {},
   "outputs": [],
   "source": []
  }
 ],
 "metadata": {
  "kernelspec": {
   "display_name": "Python 3",
   "language": "python",
   "name": "python3"
  },
  "language_info": {
   "codemirror_mode": {
    "name": "ipython",
    "version": 3
   },
   "file_extension": ".py",
   "mimetype": "text/x-python",
   "name": "python",
   "nbconvert_exporter": "python",
   "pygments_lexer": "ipython3",
   "version": "3.9.13"
  },
  "vscode": {
   "interpreter": {
    "hash": "8cd415eadad6808d033cdb5cee8d4a21bc5a13586fc9ffab078162a941e3c42c"
   }
  }
 },
 "nbformat": 4,
 "nbformat_minor": 2
}
