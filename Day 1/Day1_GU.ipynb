{
 "cells": [
  {
   "cell_type": "code",
   "execution_count": 1,
   "metadata": {},
   "outputs": [],
   "source": [
    "import numpy as np"
   ]
  },
  {
   "cell_type": "code",
   "execution_count": 2,
   "metadata": {},
   "outputs": [],
   "source": [
    "with open(r'./input.txt') as f:\n",
    "    lst = f.read().splitlines()"
   ]
  },
  {
   "cell_type": "code",
   "execution_count": 3,
   "metadata": {},
   "outputs": [],
   "source": [
    "def try_cast(a):\n",
    "    if a.isdigit():\n",
    "        return int(a)\n",
    "    else:\n",
    "        return np.nan\n",
    "\n",
    "lst = [try_cast(x) for x in lst]"
   ]
  },
  {
   "cell_type": "code",
   "execution_count": 4,
   "metadata": {},
   "outputs": [],
   "source": [
    "def group(lst):\n",
    "    tmp = []\n",
    "    for el in lst:\n",
    "        if np.isnan(el):\n",
    "            yield tmp\n",
    "            tmp = []\n",
    "            continue\n",
    "        tmp.append(el)\n",
    "    yield tmp\n",
    "\n",
    "lst = list(group(lst))"
   ]
  },
  {
   "cell_type": "code",
   "execution_count": 5,
   "metadata": {},
   "outputs": [],
   "source": [
    "lst_sum = [sum(el) for el in lst]"
   ]
  },
  {
   "cell_type": "code",
   "execution_count": 6,
   "metadata": {},
   "outputs": [
    {
     "name": "stdout",
     "output_type": "stream",
     "text": [
      "first quiz: 70764\n"
     ]
    }
   ],
   "source": [
    "lst_sum.sort(reverse=True)\n",
    "print('first quiz: {}'.format(lst_sum[0]))"
   ]
  },
  {
   "cell_type": "code",
   "execution_count": 7,
   "metadata": {},
   "outputs": [
    {
     "name": "stdout",
     "output_type": "stream",
     "text": [
      "second quiz: 203905\n"
     ]
    }
   ],
   "source": [
    "print('second quiz: {}'.format(sum(lst_sum[0:3])))"
   ]
  }
 ],
 "metadata": {
  "kernelspec": {
   "display_name": "Python 3.7.9 64-bit",
   "language": "python",
   "name": "python3"
  },
  "language_info": {
   "codemirror_mode": {
    "name": "ipython",
    "version": 3
   },
   "file_extension": ".py",
   "mimetype": "text/x-python",
   "name": "python",
   "nbconvert_exporter": "python",
   "pygments_lexer": "ipython3",
   "version": "3.7.9"
  },
  "orig_nbformat": 4,
  "vscode": {
   "interpreter": {
    "hash": "13b9670b4d898b3c4ababc649e6e800565b369406cd9a96ed1aaeb3612e27956"
   }
  }
 },
 "nbformat": 4,
 "nbformat_minor": 2
}
