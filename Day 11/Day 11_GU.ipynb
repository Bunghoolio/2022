{
 "cells": [
  {
   "cell_type": "code",
   "execution_count": 1,
   "metadata": {},
   "outputs": [],
   "source": [
    "import numpy as np"
   ]
  },
  {
   "cell_type": "code",
   "execution_count": 2,
   "metadata": {},
   "outputs": [],
   "source": [
    "with open(r'./input.txt') as f:\n",
    "    lines = f.read().splitlines()"
   ]
  },
  {
   "cell_type": "code",
   "execution_count": 3,
   "metadata": {},
   "outputs": [],
   "source": [
    "def init_lists(re_init = False):\n",
    "\n",
    "    holding_list = []\n",
    "    operation = []\n",
    "    test = []\n",
    "    true_monkey = []\n",
    "    false_monkey = []\n",
    "\n",
    "    for line in lines:\n",
    "        if line[:3] == '  S':\n",
    "            holding_list.append(list(map(np.longlong, line.split(': ')[1].split(', '))))\n",
    "        elif line[:3] == '  O':\n",
    "            operation.append(line.split(': ')[1].split(' = ')[1])\n",
    "        elif line[:3] == '  T':\n",
    "            test.append(int(line.split(' ')[-1]))\n",
    "        if line[:8] == '    If t':\n",
    "            true_monkey.append(int(line.split(' ')[-1]))\n",
    "        if line[:8] == '    If f':\n",
    "            false_monkey.append(int(line.split(' ')[-1]))\n",
    "\n",
    "    if re_init:\n",
    "        return holding_list\n",
    "\n",
    "    return holding_list, operation, test, true_monkey, false_monkey\n",
    "\n",
    "holding_list, operation, test, true_monkey, false_monkey = init_lists()"
   ]
  },
  {
   "cell_type": "code",
   "execution_count": 4,
   "metadata": {},
   "outputs": [
    {
     "name": "stdout",
     "output_type": "stream",
     "text": [
      "first quiz: 242 * 239 = 57838\n"
     ]
    }
   ],
   "source": [
    "inspection_list = [0 for i in range(8)]\n",
    "\n",
    "for i in range(20):\n",
    "\n",
    "    for monkey, items in enumerate(holding_list):\n",
    "        items = items.copy()\n",
    "        for old in items:\n",
    "            inspection_list[monkey] += 1\n",
    "            holding_list[monkey].pop(0)\n",
    "            old = int(eval(operation[monkey]) / 3)\n",
    "            if old % test[monkey] == 0:\n",
    "                holding_list[true_monkey[monkey]].append(old)\n",
    "            else:\n",
    "                holding_list[false_monkey[monkey]].append(old)\n",
    "inspection_list.sort(reverse=True)\n",
    "print('first quiz: {} * {} = {}'.format(inspection_list[0], inspection_list[1], np.prod(inspection_list[:2])))"
   ]
  },
  {
   "cell_type": "code",
   "execution_count": 5,
   "metadata": {},
   "outputs": [
    {
     "name": "stdout",
     "output_type": "stream",
     "text": [
      "first quiz: 122693 * 122667 = 15050382231\n"
     ]
    }
   ],
   "source": [
    "holding_list = init_lists(re_init=True)\n",
    "\n",
    "inspection_list = [0 for i in range(8)]\n",
    "M = np.prod(test)\n",
    "\n",
    "for i in range(10000):\n",
    "\n",
    "    for monkey, items in enumerate(holding_list):\n",
    "        items = items.copy()\n",
    "        for old in items:\n",
    "            inspection_list[monkey] += 1\n",
    "            holding_list[monkey].pop(0)\n",
    "            old = (eval(operation[monkey]) % M).astype(np.longlong)\n",
    "            if old % test[monkey] == 0:\n",
    "                holding_list[true_monkey[monkey]].append(old)\n",
    "            else:\n",
    "                holding_list[false_monkey[monkey]].append(old)\n",
    "inspection_list.sort(reverse=True)\n",
    "print('first quiz: {} * {} = {}'.format(inspection_list[0], inspection_list[1], np.prod(inspection_list[:2], dtype=np.longlong)))"
   ]
  }
 ],
 "metadata": {
  "kernelspec": {
   "display_name": "Python 3",
   "language": "python",
   "name": "python3"
  },
  "language_info": {
   "codemirror_mode": {
    "name": "ipython",
    "version": 3
   },
   "file_extension": ".py",
   "mimetype": "text/x-python",
   "name": "python",
   "nbconvert_exporter": "python",
   "pygments_lexer": "ipython3",
   "version": "3.11.0"
  },
  "orig_nbformat": 4,
  "vscode": {
   "interpreter": {
    "hash": "d70e170722f273e0c1dbe046cce38631bc71d31254f04aca9a3f0ee18ff7092a"
   }
  }
 },
 "nbformat": 4,
 "nbformat_minor": 2
}
