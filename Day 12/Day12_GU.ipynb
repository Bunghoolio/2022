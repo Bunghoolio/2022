{
 "cells": [
  {
   "cell_type": "code",
   "execution_count": 1,
   "metadata": {},
   "outputs": [],
   "source": [
    "import numpy as np"
   ]
  },
  {
   "cell_type": "code",
   "execution_count": 2,
   "metadata": {},
   "outputs": [],
   "source": [
    "with open(r'./input.txt') as f:\n",
    "    lines = f.read().splitlines()\n"
   ]
  },
  {
   "cell_type": "code",
   "execution_count": 3,
   "metadata": {},
   "outputs": [],
   "source": [
    "def range_char(start, stop):\n",
    "    return (chr(n) for n in range(ord(start), ord(stop) + 1))\n",
    "\n",
    "height_dict = {}\n",
    "        \n",
    "for character in enumerate(range_char(\"a\", \"z\")):\n",
    "    height_dict[character[1]] = character[0]\n",
    "\n",
    "height_dict['S'] = 0\n",
    "height_dict['E'] = 25"
   ]
  },
  {
   "cell_type": "code",
   "execution_count": 4,
   "metadata": {},
   "outputs": [],
   "source": [
    "def string_to_list(string):\n",
    "    return [x for x in string]\n",
    "\n",
    "\n",
    "\n",
    "grid = []\n",
    "for line in lines:\n",
    "    grid.append(string_to_list(line))\n",
    "\n",
    "grid = np.array(grid)"
   ]
  },
  {
   "cell_type": "code",
   "execution_count": 5,
   "metadata": {},
   "outputs": [
    {
     "data": {
      "text/plain": [
       "(20, 0)"
      ]
     },
     "execution_count": 5,
     "metadata": {},
     "output_type": "execute_result"
    }
   ],
   "source": [
    "np.where(grid=='S')[0][0], np.where(grid=='S')[1][0]"
   ]
  },
  {
   "cell_type": "code",
   "execution_count": 6,
   "metadata": {},
   "outputs": [
    {
     "name": "stdout",
     "output_type": "stream",
     "text": [
      "first quiz 394\n"
     ]
    }
   ],
   "source": [
    "paths = [[[np.where(grid=='S')[0][0], np.where(grid=='S')[1][0]], [np.where(grid=='S')[0][0], np.where(grid=='S')[1][0]]]]\n",
    "paths_new = []\n",
    "reached_steps = [[np.where(grid=='S')[0][0], np.where(grid=='S')[1][0]]]\n",
    "cnt = 0\n",
    "brk = False\n",
    "\n",
    "while brk != True:\n",
    "    cnt += 1\n",
    "\n",
    "    for i, path in enumerate(paths):\n",
    "        # print('round {}, iter: {}, paths: {} path: {}'.format(cnt, i, paths, path))\n",
    "        path = path.copy()\n",
    "\n",
    "        pos_0, pos_1, old_pos_0, old_pos_1 = path[-1][0], path[-1][1], path[-2][0], path[-2][1]\n",
    "\n",
    "        _ = []\n",
    "\n",
    "        for dir in [[pos_0, pos_1 + 1], [pos_0, np.abs(pos_1 - 1)], [pos_0 + 1, pos_1], [np.abs(pos_0 - 1), pos_1]]:\n",
    "            if dir[0] < grid.shape[0] and dir[1] < grid.shape[1]:\n",
    "                if height_dict[grid[pos_0, pos_1]] + 1 >= height_dict[grid[dir[0], dir[1]]] and ([dir[0], dir[1]] not in (reached_steps)):\n",
    "                    _.append(path + [[dir[0], dir[1]]])\n",
    "                    reached_steps.append([dir[0], dir[1]])\n",
    "\n",
    "        for lst in _:\n",
    "            paths_new.append(lst)\n",
    "            if grid[lst[-1][0], lst[-1][1]] == 'E':\n",
    "                break\n",
    "\n",
    "        if grid[lst[-1][0], lst[-1][1]] == 'E':\n",
    "            break\n",
    "\n",
    "    paths = paths_new.copy()\n",
    "    paths_new = []\n",
    "\n",
    "    if grid[lst[-1][0], lst[-1][1]] == 'E':\n",
    "        print('first quiz {}'.format(len(lst) - 2))\n",
    "        break\n",
    "    \n"
   ]
  },
  {
   "cell_type": "code",
   "execution_count": 7,
   "metadata": {},
   "outputs": [
    {
     "name": "stdout",
     "output_type": "stream",
     "text": [
      "second quiz 388\n"
     ]
    }
   ],
   "source": [
    "paths = [[[np.where(grid=='E')[0][0], np.where(grid=='E')[1][0]], [np.where(grid=='E')[0][0], np.where(grid=='E')[1][0]]]]\n",
    "paths_new = []\n",
    "reached_steps = [[np.where(grid=='E')[0][0], np.where(grid=='E')[1][0]]]\n",
    "cnt = 0\n",
    "brk = False\n",
    "\n",
    "while brk != True:\n",
    "    cnt += 1\n",
    "\n",
    "    for i, path in enumerate(paths):\n",
    "        # print('round {}, iter: {}, paths: {} path: {}'.format(cnt, i, paths, path))\n",
    "        path = path.copy()\n",
    "\n",
    "        pos_0, pos_1, old_pos_0, old_pos_1 = path[-1][0], path[-1][1], path[-2][0], path[-2][1]\n",
    "\n",
    "        _ = []\n",
    "\n",
    "        for dir in [[pos_0, pos_1 + 1], [pos_0, np.abs(pos_1 - 1)], [pos_0 + 1, pos_1], [np.abs(pos_0 - 1), pos_1]]:\n",
    "            if dir[0] < grid.shape[0] and dir[1] < grid.shape[1]:\n",
    "                if height_dict[grid[pos_0, pos_1]] - 1 <= height_dict[grid[dir[0], dir[1]]] and ([dir[0], dir[1]] not in (reached_steps)):\n",
    "                    _.append(path + [[dir[0], dir[1]]])\n",
    "                    reached_steps.append([dir[0], dir[1]])\n",
    "\n",
    "        for lst in _:\n",
    "            paths_new.append(lst)\n",
    "            if grid[lst[-1][0], lst[-1][1]] == 'a':\n",
    "                break\n",
    "\n",
    "        if grid[lst[-1][0], lst[-1][1]] == 'a':\n",
    "            break\n",
    "\n",
    "    paths = paths_new.copy()\n",
    "    paths_new = []\n",
    "\n",
    "    if grid[lst[-1][0], lst[-1][1]] == 'a':\n",
    "        print('second quiz {}'.format(len(lst) - 2))\n",
    "        break\n",
    "    \n"
   ]
  }
 ],
 "metadata": {
  "kernelspec": {
   "display_name": "Python 3",
   "language": "python",
   "name": "python3"
  },
  "language_info": {
   "codemirror_mode": {
    "name": "ipython",
    "version": 3
   },
   "file_extension": ".py",
   "mimetype": "text/x-python",
   "name": "python",
   "nbconvert_exporter": "python",
   "pygments_lexer": "ipython3",
   "version": "3.11.0"
  },
  "orig_nbformat": 4,
  "vscode": {
   "interpreter": {
    "hash": "d70e170722f273e0c1dbe046cce38631bc71d31254f04aca9a3f0ee18ff7092a"
   }
  }
 },
 "nbformat": 4,
 "nbformat_minor": 2
}
