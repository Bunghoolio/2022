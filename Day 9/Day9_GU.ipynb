{
 "cells": [
  {
   "cell_type": "code",
   "execution_count": 1,
   "metadata": {},
   "outputs": [],
   "source": [
    "import numpy as np"
   ]
  },
  {
   "cell_type": "code",
   "execution_count": 2,
   "metadata": {},
   "outputs": [],
   "source": [
    "with open('input.txt') as f:\n",
    "    lines = f.read().splitlines()\n",
    "\n",
    "motions = []\n",
    "\n",
    "for line in lines:\n",
    "    motions.append(line.split(' '))"
   ]
  },
  {
   "cell_type": "code",
   "execution_count": 3,
   "metadata": {},
   "outputs": [],
   "source": [
    "cursors = [[0, 0]]\n",
    "cursor = [0, 0]\n",
    "\n",
    "for motion in motions:\n",
    "    if motion[0] == 'U':\n",
    "        _dir, _len = 0, int(motion[1])\n",
    "    elif motion[0] == 'D':\n",
    "        _dir, _len = 0, -int(motion[1])\n",
    "    elif motion[0] == 'R':\n",
    "        _dir, _len = 1, int(motion[1])\n",
    "    elif motion[0] == 'L':\n",
    "        _dir, _len = 1, -int(motion[1])\n",
    "\n",
    "    cursor_new = cursor.copy()\n",
    "    cursor_new[_dir] += _len\n",
    "    cursors.extend(np.linspace(cursor, cursor_new, np.abs(_len)+1, dtype=int).tolist()[1:])\n",
    "    cursor = cursor_new\n",
    "\n"
   ]
  },
  {
   "cell_type": "code",
   "execution_count": 4,
   "metadata": {},
   "outputs": [],
   "source": [
    "\n",
    "T_cursors = []\n",
    "T_cursor, _lcursor = [0,0], [0,0]\n",
    "\n",
    "for _cursor in cursors:\n",
    "    \n",
    "    T_H_dist = np.array(T_cursor) - np.array(_cursor)\n",
    "\n",
    "    if np.abs(T_H_dist[0]) == 2 or np.abs(T_H_dist[1]) == 2:\n",
    "        T_cursor = _lcursor    \n",
    "\n",
    "    T_cursors.append(T_cursor.copy())\n",
    "    _lcursor = _cursor.copy()\n"
   ]
  },
  {
   "cell_type": "code",
   "execution_count": 5,
   "metadata": {},
   "outputs": [
    {
     "name": "stdout",
     "output_type": "stream",
     "text": [
      "first quiz: 6081\n"
     ]
    }
   ],
   "source": [
    "T_cursors_dist = []\n",
    "for T_cursor in T_cursors:\n",
    "    if T_cursor not in T_cursors_dist:\n",
    "        T_cursors_dist.append(T_cursor)\n",
    "\n",
    "print('first quiz: {}'.format(len(T_cursors_dist)))"
   ]
  },
  {
   "cell_type": "code",
   "execution_count": 6,
   "metadata": {},
   "outputs": [],
   "source": [
    "knots = np.zeros((9,2), dtype=int)\n",
    "knot_cursors = knots.copy()\n",
    "k_cursor, _lcursor = np.array([0, 0]), np.array([0, 0])\n",
    "cursors_np = np.array(cursors)\n",
    "\n",
    "for i, _cursor in enumerate(cursors_np):\n",
    "    _lknot = _cursor.copy()\n",
    "\n",
    "    for j, knot in enumerate(knots):\n",
    "\n",
    "        T_H_dist = knot - _lknot\n",
    "        move = np.sign(T_H_dist)\n",
    "        \n",
    "        if np.abs(T_H_dist[0]) + np.abs(T_H_dist[1]) == 3 or np.abs(T_H_dist[0]) == 2 or np.abs(T_H_dist[1]) == 2:\n",
    "            k_cursor = knot - move\n",
    "        else:\n",
    "            k_cursor = knot\n",
    "        \n",
    "        knots[j] = k_cursor.copy()\n",
    "    \n",
    "        _lknot = k_cursor.copy()\n",
    "\n",
    "    _lcursor = _cursor.copy()\n",
    "    knots = knots.copy()\n",
    "    knot_cursors = np.vstack((knot_cursors, knots.copy()))\n",
    "\n",
    "knot_cursors = knot_cursors.reshape(int(knot_cursors.shape[0]/9), 9, 2)"
   ]
  },
  {
   "cell_type": "code",
   "execution_count": 7,
   "metadata": {},
   "outputs": [
    {
     "name": "stdout",
     "output_type": "stream",
     "text": [
      "second quiz: 2487\n"
     ]
    }
   ],
   "source": [
    "knot_9_cursors = np.array(knot_cursors)[:, 8].tolist()\n",
    "\n",
    "knot_9_cursors_dist = []\n",
    "for knot_9_cursor in knot_9_cursors:\n",
    "    if knot_9_cursor not in knot_9_cursors_dist:\n",
    "        knot_9_cursors_dist.append(knot_9_cursor)\n",
    "\n",
    "print('second quiz: {}'.format(len(knot_9_cursors_dist)))"
   ]
  }
 ],
 "metadata": {
  "kernelspec": {
   "display_name": "Python 3.10.2 64-bit",
   "language": "python",
   "name": "python3"
  },
  "language_info": {
   "codemirror_mode": {
    "name": "ipython",
    "version": 3
   },
   "file_extension": ".py",
   "mimetype": "text/x-python",
   "name": "python",
   "nbconvert_exporter": "python",
   "pygments_lexer": "ipython3",
   "version": "3.10.2"
  },
  "orig_nbformat": 4,
  "vscode": {
   "interpreter": {
    "hash": "369f2c481f4da34e4445cda3fffd2e751bd1c4d706f27375911949ba6bb62e1c"
   }
  }
 },
 "nbformat": 4,
 "nbformat_minor": 2
}
